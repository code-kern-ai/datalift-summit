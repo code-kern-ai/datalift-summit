{
 "cells": [
  {
   "cell_type": "code",
   "execution_count": null,
   "metadata": {},
   "outputs": [],
   "source": [
    "import pandas as pd\n",
    "import numpy as np\n",
    "from bs4 import BeautifulSoup"
   ]
  },
  {
   "cell_type": "code",
   "execution_count": null,
   "metadata": {},
   "outputs": [],
   "source": [
    "html_path = \"HTMLs\\datascienceweekly.html\"\n",
    "with open(html_path, \"r\") as f:\n",
    "    data = BeautifulSoup(f, \"html.parser\")"
   ]
  },
  {
   "cell_type": "code",
   "execution_count": null,
   "metadata": {},
   "outputs": [],
   "source": [
    "all_uls = data.find_all(\"ul\")\n",
    "for ul in all_uls:\n",
    "    previous = ul.previous_sibling.previous_sibling\n",
    "    if((previous.name == \"h2\") and (\"#34495e\" in previous[\"style\"])):\n",
    "        print(previous.text)\n",
    "    font = ul.find(\"font\")\n",
    "    try:\n",
    "        children = list(font.children)\n",
    "        \n",
    "        # print(list(font.children))\n",
    "        # print(list(font.descendants))\n",
    "        headline = children[0].text\n",
    "        \n",
    "        body = \" \".join([x.text for x in children[2:] if \"<br\" not in x])\n",
    "        #body = list(font.descendants)[-1]\n",
    "        # print(headline,\"\\n--------------------------\\n\", body)\n",
    "    except Exception as e:\n",
    "        children = list(font.children)\n",
    "        # print([x for x in children[2:] if \"<br\" not in x])\n",
    "        # print(\"ERROR++++++++++++\",e,font)"
   ]
  }
 ],
 "metadata": {
  "interpreter": {
   "hash": "9a8dd3a8ce1b4c991bd9fc20ecbd33bb3a991b4d95e67424ec48b6633f11a8d8"
  },
  "kernelspec": {
   "display_name": "Python 3.8.10 ('onetask')",
   "language": "python",
   "name": "python3"
  },
  "language_info": {
   "codemirror_mode": {
    "name": "ipython",
    "version": 3
   },
   "file_extension": ".py",
   "mimetype": "text/x-python",
   "name": "python",
   "nbconvert_exporter": "python",
   "pygments_lexer": "ipython3",
   "version": "3.8.0"
  },
  "orig_nbformat": 4
 },
 "nbformat": 4,
 "nbformat_minor": 2
}
